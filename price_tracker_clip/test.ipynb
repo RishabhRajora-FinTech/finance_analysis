{
 "cells": [
  {
   "cell_type": "code",
   "execution_count": 59,
   "metadata": {},
   "outputs": [],
   "source": [
    "from simulator import InvestmentSimulator\n"
   ]
  },
  {
   "cell_type": "code",
   "execution_count": 60,
   "metadata": {},
   "outputs": [],
   "source": [
    "\n",
    "simulator = InvestmentSimulator('IDEA.NS', 2020)"
   ]
  },
  {
   "cell_type": "code",
   "execution_count": 61,
   "metadata": {},
   "outputs": [
    {
     "name": "stderr",
     "output_type": "stream",
     "text": [
      "/Users/bhawanarajora/Documents/GitHub/finance_analysis/price_tracker_clip/simulator.py:12: FutureWarning: YF.download() has changed argument auto_adjust default to True\n",
      "  df = yf.download(self.ticker, start=f\"{self.start_year}-01-01\", interval='1d')\n",
      "[*********************100%***********************]  1 of 1 completed\n"
     ]
    },
    {
     "ename": "ValueError",
     "evalue": "The truth value of a Series is ambiguous. Use a.empty, a.bool(), a.item(), a.any() or a.all().",
     "output_type": "error",
     "traceback": [
      "\u001b[0;31m---------------------------------------------------------------------------\u001b[0m",
      "\u001b[0;31mValueError\u001b[0m                                Traceback (most recent call last)",
      "Cell \u001b[0;32mIn[61], line 1\u001b[0m\n\u001b[0;32m----> 1\u001b[0m data \u001b[38;5;241m=\u001b[39m simulator\u001b[38;5;241m.\u001b[39msimulate()\n",
      "File \u001b[0;32m~/Documents/GitHub/finance_analysis/price_tracker_clip/simulator.py:27\u001b[0m, in \u001b[0;36mInvestmentSimulator.simulate\u001b[0;34m(self)\u001b[0m\n\u001b[1;32m     24\u001b[0m df[\u001b[38;5;124m'\u001b[39m\u001b[38;5;124mInvestment\u001b[39m\u001b[38;5;124m'\u001b[39m] \u001b[38;5;241m=\u001b[39m \u001b[38;5;241m1.0\u001b[39m  \u001b[38;5;66;03m# this is fine if df.index is standard DateTimeIndex\u001b[39;00m\n\u001b[1;32m     26\u001b[0m \u001b[38;5;66;03m# Defensive check\u001b[39;00m\n\u001b[0;32m---> 27\u001b[0m \u001b[38;5;28;01mif\u001b[39;00m \u001b[38;5;124m'\u001b[39m\u001b[38;5;124mClose\u001b[39m\u001b[38;5;124m'\u001b[39m \u001b[38;5;129;01mnot\u001b[39;00m \u001b[38;5;129;01min\u001b[39;00m df\u001b[38;5;241m.\u001b[39mcolumns \u001b[38;5;129;01mor\u001b[39;00m df[\u001b[38;5;124m'\u001b[39m\u001b[38;5;124mClose\u001b[39m\u001b[38;5;124m'\u001b[39m]\u001b[38;5;241m.\u001b[39misnull()\u001b[38;5;241m.\u001b[39mall():\n\u001b[1;32m     28\u001b[0m     \u001b[38;5;28;01mraise\u001b[39;00m \u001b[38;5;167;01mValueError\u001b[39;00m(\u001b[38;5;124mf\u001b[39m\u001b[38;5;124m\"\u001b[39m\u001b[38;5;124mPrice data unavailable for ticker: \u001b[39m\u001b[38;5;132;01m{\u001b[39;00m\u001b[38;5;28mself\u001b[39m\u001b[38;5;241m.\u001b[39mticker\u001b[38;5;132;01m}\u001b[39;00m\u001b[38;5;124m\"\u001b[39m)\n\u001b[1;32m     30\u001b[0m \u001b[38;5;66;03m# FIX: Ensure both operands are Series\u001b[39;00m\n",
      "File \u001b[0;32m~/anaconda3/lib/python3.11/site-packages/pandas/core/generic.py:1577\u001b[0m, in \u001b[0;36mNDFrame.__nonzero__\u001b[0;34m(self)\u001b[0m\n\u001b[1;32m   1575\u001b[0m \u001b[38;5;129m@final\u001b[39m\n\u001b[1;32m   1576\u001b[0m \u001b[38;5;28;01mdef\u001b[39;00m \u001b[38;5;21m__nonzero__\u001b[39m(\u001b[38;5;28mself\u001b[39m) \u001b[38;5;241m-\u001b[39m\u001b[38;5;241m>\u001b[39m NoReturn:\n\u001b[0;32m-> 1577\u001b[0m     \u001b[38;5;28;01mraise\u001b[39;00m \u001b[38;5;167;01mValueError\u001b[39;00m(\n\u001b[1;32m   1578\u001b[0m         \u001b[38;5;124mf\u001b[39m\u001b[38;5;124m\"\u001b[39m\u001b[38;5;124mThe truth value of a \u001b[39m\u001b[38;5;132;01m{\u001b[39;00m\u001b[38;5;28mtype\u001b[39m(\u001b[38;5;28mself\u001b[39m)\u001b[38;5;241m.\u001b[39m\u001b[38;5;18m__name__\u001b[39m\u001b[38;5;132;01m}\u001b[39;00m\u001b[38;5;124m is ambiguous. \u001b[39m\u001b[38;5;124m\"\u001b[39m\n\u001b[1;32m   1579\u001b[0m         \u001b[38;5;124m\"\u001b[39m\u001b[38;5;124mUse a.empty, a.bool(), a.item(), a.any() or a.all().\u001b[39m\u001b[38;5;124m\"\u001b[39m\n\u001b[1;32m   1580\u001b[0m     )\n",
      "\u001b[0;31mValueError\u001b[0m: The truth value of a Series is ambiguous. Use a.empty, a.bool(), a.item(), a.any() or a.all()."
     ]
    }
   ],
   "source": [
    "data = simulator.simulate()"
   ]
  },
  {
   "cell_type": "code",
   "execution_count": null,
   "metadata": {},
   "outputs": [
    {
     "name": "stdout",
     "output_type": "stream",
     "text": [
      "None\n"
     ]
    }
   ],
   "source": [
    "print(data)"
   ]
  },
  {
   "cell_type": "code",
   "execution_count": null,
   "metadata": {},
   "outputs": [
    {
     "name": "stderr",
     "output_type": "stream",
     "text": [
      "/var/folders/j7/8j20dxhx6b3bx6z8bt4n02t80000gn/T/ipykernel_14571/529809214.py:4: FutureWarning: YF.download() has changed argument auto_adjust default to True\n",
      "  df_yf_data = yf.download(ticker, start=f\"{start_year}-01-01\", interval='1d')\n",
      "[*********************100%***********************]  1 of 1 completed\n"
     ]
    }
   ],
   "source": [
    "import yfinance as yf\n",
    "ticker = 'IDEA.NS'\n",
    "start_year = 2020\n",
    "df_yf_data = yf.download(ticker, start=f\"{start_year}-01-01\", interval='1d')"
   ]
  },
  {
   "cell_type": "code",
   "execution_count": null,
   "metadata": {},
   "outputs": [
    {
     "data": {
      "text/html": [
       "<div>\n",
       "<style scoped>\n",
       "    .dataframe tbody tr th:only-of-type {\n",
       "        vertical-align: middle;\n",
       "    }\n",
       "\n",
       "    .dataframe tbody tr th {\n",
       "        vertical-align: top;\n",
       "    }\n",
       "\n",
       "    .dataframe thead th {\n",
       "        text-align: right;\n",
       "    }\n",
       "</style>\n",
       "<table border=\"1\" class=\"dataframe\">\n",
       "  <thead>\n",
       "    <tr style=\"text-align: right;\">\n",
       "      <th>Ticker</th>\n",
       "      <th>IDEA.NS</th>\n",
       "    </tr>\n",
       "    <tr>\n",
       "      <th>Date</th>\n",
       "      <th></th>\n",
       "    </tr>\n",
       "  </thead>\n",
       "  <tbody>\n",
       "    <tr>\n",
       "      <th>2020-01-01</th>\n",
       "      <td>6.10</td>\n",
       "    </tr>\n",
       "    <tr>\n",
       "      <th>2020-01-02</th>\n",
       "      <td>6.10</td>\n",
       "    </tr>\n",
       "    <tr>\n",
       "      <th>2020-01-03</th>\n",
       "      <td>6.10</td>\n",
       "    </tr>\n",
       "    <tr>\n",
       "      <th>2020-01-06</th>\n",
       "      <td>6.00</td>\n",
       "    </tr>\n",
       "    <tr>\n",
       "      <th>2020-01-07</th>\n",
       "      <td>6.00</td>\n",
       "    </tr>\n",
       "    <tr>\n",
       "      <th>...</th>\n",
       "      <td>...</td>\n",
       "    </tr>\n",
       "    <tr>\n",
       "      <th>2025-07-07</th>\n",
       "      <td>7.29</td>\n",
       "    </tr>\n",
       "    <tr>\n",
       "      <th>2025-07-08</th>\n",
       "      <td>7.29</td>\n",
       "    </tr>\n",
       "    <tr>\n",
       "      <th>2025-07-09</th>\n",
       "      <td>7.26</td>\n",
       "    </tr>\n",
       "    <tr>\n",
       "      <th>2025-07-10</th>\n",
       "      <td>7.33</td>\n",
       "    </tr>\n",
       "    <tr>\n",
       "      <th>2025-07-11</th>\n",
       "      <td>7.17</td>\n",
       "    </tr>\n",
       "  </tbody>\n",
       "</table>\n",
       "<p>1370 rows × 1 columns</p>\n",
       "</div>"
      ],
      "text/plain": [
       "Ticker      IDEA.NS\n",
       "Date               \n",
       "2020-01-01     6.10\n",
       "2020-01-02     6.10\n",
       "2020-01-03     6.10\n",
       "2020-01-06     6.00\n",
       "2020-01-07     6.00\n",
       "...             ...\n",
       "2025-07-07     7.29\n",
       "2025-07-08     7.29\n",
       "2025-07-09     7.26\n",
       "2025-07-10     7.33\n",
       "2025-07-11     7.17\n",
       "\n",
       "[1370 rows x 1 columns]"
      ]
     },
     "execution_count": 18,
     "metadata": {},
     "output_type": "execute_result"
    }
   ],
   "source": [
    "df['Close']"
   ]
  },
  {
   "cell_type": "code",
   "execution_count": null,
   "metadata": {},
   "outputs": [
    {
     "name": "stdout",
     "output_type": "stream",
     "text": [
      "Price       Close  High   Low  Open    Volume\n",
      "Date                                         \n",
      "2020-01-01    6.1   6.3  6.00  6.20  55777825\n",
      "2020-01-02    6.1   6.2  5.95  6.00  67004549\n",
      "2020-01-03    6.1   6.2  6.00  6.10  77256216\n",
      "2020-01-06    6.0   6.1  5.90  6.05  65911114\n",
      "2020-01-07    6.0   6.2  5.90  6.00  85292839\n"
     ]
    }
   ],
   "source": [
    "import copy\n",
    "df = copy.deepcopy(df_yf_data)\n",
    "\n",
    "# Assume df is your original DataFrame\n",
    "# Step 1: Reset the column multi-index (remove Ticker level)\n",
    "df.columns = df.columns.droplevel(1)  # Drop the first level (\"Ticker\")\n",
    "\n",
    "# Step 2: Optionally reset index if Date is also a multi-index\n",
    "# If 'Date' is already index and not part of a multiindex, this is not needed.\n",
    "# df = df.reset_index()\n",
    "\n",
    "# Final cleaned DataFrame\n",
    "print(df.head())\n"
   ]
  },
  {
   "cell_type": "code",
   "execution_count": null,
   "metadata": {},
   "outputs": [
    {
     "data": {
      "text/plain": [
       "Date\n",
       "2020-01-01    6.10\n",
       "2020-01-02    6.10\n",
       "2020-01-03    6.10\n",
       "2020-01-06    6.00\n",
       "2020-01-07    6.00\n",
       "              ... \n",
       "2025-07-07    7.29\n",
       "2025-07-08    7.29\n",
       "2025-07-09    7.26\n",
       "2025-07-10    7.33\n",
       "2025-07-11    7.17\n",
       "Name: Close, Length: 1370, dtype: float64"
      ]
     },
     "execution_count": 23,
     "metadata": {},
     "output_type": "execute_result"
    }
   ],
   "source": [
    "df['Close']"
   ]
  },
  {
   "cell_type": "code",
   "execution_count": 51,
   "metadata": {},
   "outputs": [
    {
     "data": {
      "text/plain": [
       "Index(['Close', 'High', 'Low', 'Open', 'Volume'], dtype='object', name='Price')"
      ]
     },
     "execution_count": 51,
     "metadata": {},
     "output_type": "execute_result"
    }
   ],
   "source": [
    "df.columns"
   ]
  },
  {
   "cell_type": "code",
   "execution_count": 52,
   "metadata": {},
   "outputs": [],
   "source": [
    "df = copy.deepcopy(df_yf_data)\n",
    "\n"
   ]
  },
  {
   "cell_type": "code",
   "execution_count": 53,
   "metadata": {},
   "outputs": [
    {
     "data": {
      "text/html": [
       "<div>\n",
       "<style scoped>\n",
       "    .dataframe tbody tr th:only-of-type {\n",
       "        vertical-align: middle;\n",
       "    }\n",
       "\n",
       "    .dataframe tbody tr th {\n",
       "        vertical-align: top;\n",
       "    }\n",
       "\n",
       "    .dataframe thead tr th {\n",
       "        text-align: left;\n",
       "    }\n",
       "\n",
       "    .dataframe thead tr:last-of-type th {\n",
       "        text-align: right;\n",
       "    }\n",
       "</style>\n",
       "<table border=\"1\" class=\"dataframe\">\n",
       "  <thead>\n",
       "    <tr>\n",
       "      <th>Price</th>\n",
       "      <th>Close</th>\n",
       "      <th>High</th>\n",
       "      <th>Low</th>\n",
       "      <th>Open</th>\n",
       "      <th>Volume</th>\n",
       "    </tr>\n",
       "    <tr>\n",
       "      <th>Ticker</th>\n",
       "      <th>IDEA.NS</th>\n",
       "      <th>IDEA.NS</th>\n",
       "      <th>IDEA.NS</th>\n",
       "      <th>IDEA.NS</th>\n",
       "      <th>IDEA.NS</th>\n",
       "    </tr>\n",
       "    <tr>\n",
       "      <th>Date</th>\n",
       "      <th></th>\n",
       "      <th></th>\n",
       "      <th></th>\n",
       "      <th></th>\n",
       "      <th></th>\n",
       "    </tr>\n",
       "  </thead>\n",
       "  <tbody>\n",
       "    <tr>\n",
       "      <th>2020-01-01</th>\n",
       "      <td>6.10</td>\n",
       "      <td>6.30</td>\n",
       "      <td>6.00</td>\n",
       "      <td>6.20</td>\n",
       "      <td>55777825</td>\n",
       "    </tr>\n",
       "    <tr>\n",
       "      <th>2020-01-02</th>\n",
       "      <td>6.10</td>\n",
       "      <td>6.20</td>\n",
       "      <td>5.95</td>\n",
       "      <td>6.00</td>\n",
       "      <td>67004549</td>\n",
       "    </tr>\n",
       "    <tr>\n",
       "      <th>2020-01-03</th>\n",
       "      <td>6.10</td>\n",
       "      <td>6.20</td>\n",
       "      <td>6.00</td>\n",
       "      <td>6.10</td>\n",
       "      <td>77256216</td>\n",
       "    </tr>\n",
       "    <tr>\n",
       "      <th>2020-01-06</th>\n",
       "      <td>6.00</td>\n",
       "      <td>6.10</td>\n",
       "      <td>5.90</td>\n",
       "      <td>6.05</td>\n",
       "      <td>65911114</td>\n",
       "    </tr>\n",
       "    <tr>\n",
       "      <th>2020-01-07</th>\n",
       "      <td>6.00</td>\n",
       "      <td>6.20</td>\n",
       "      <td>5.90</td>\n",
       "      <td>6.00</td>\n",
       "      <td>85292839</td>\n",
       "    </tr>\n",
       "    <tr>\n",
       "      <th>...</th>\n",
       "      <td>...</td>\n",
       "      <td>...</td>\n",
       "      <td>...</td>\n",
       "      <td>...</td>\n",
       "      <td>...</td>\n",
       "    </tr>\n",
       "    <tr>\n",
       "      <th>2025-07-07</th>\n",
       "      <td>7.29</td>\n",
       "      <td>7.40</td>\n",
       "      <td>7.25</td>\n",
       "      <td>7.30</td>\n",
       "      <td>331996862</td>\n",
       "    </tr>\n",
       "    <tr>\n",
       "      <th>2025-07-08</th>\n",
       "      <td>7.29</td>\n",
       "      <td>7.37</td>\n",
       "      <td>7.22</td>\n",
       "      <td>7.29</td>\n",
       "      <td>444237741</td>\n",
       "    </tr>\n",
       "    <tr>\n",
       "      <th>2025-07-09</th>\n",
       "      <td>7.26</td>\n",
       "      <td>7.43</td>\n",
       "      <td>7.24</td>\n",
       "      <td>7.35</td>\n",
       "      <td>340817121</td>\n",
       "    </tr>\n",
       "    <tr>\n",
       "      <th>2025-07-10</th>\n",
       "      <td>7.33</td>\n",
       "      <td>7.37</td>\n",
       "      <td>7.26</td>\n",
       "      <td>7.32</td>\n",
       "      <td>294420003</td>\n",
       "    </tr>\n",
       "    <tr>\n",
       "      <th>2025-07-11</th>\n",
       "      <td>7.17</td>\n",
       "      <td>7.33</td>\n",
       "      <td>7.12</td>\n",
       "      <td>7.33</td>\n",
       "      <td>341830457</td>\n",
       "    </tr>\n",
       "  </tbody>\n",
       "</table>\n",
       "<p>1370 rows × 5 columns</p>\n",
       "</div>"
      ],
      "text/plain": [
       "Price        Close    High     Low    Open     Volume\n",
       "Ticker     IDEA.NS IDEA.NS IDEA.NS IDEA.NS    IDEA.NS\n",
       "Date                                                 \n",
       "2020-01-01    6.10    6.30    6.00    6.20   55777825\n",
       "2020-01-02    6.10    6.20    5.95    6.00   67004549\n",
       "2020-01-03    6.10    6.20    6.00    6.10   77256216\n",
       "2020-01-06    6.00    6.10    5.90    6.05   65911114\n",
       "2020-01-07    6.00    6.20    5.90    6.00   85292839\n",
       "...            ...     ...     ...     ...        ...\n",
       "2025-07-07    7.29    7.40    7.25    7.30  331996862\n",
       "2025-07-08    7.29    7.37    7.22    7.29  444237741\n",
       "2025-07-09    7.26    7.43    7.24    7.35  340817121\n",
       "2025-07-10    7.33    7.37    7.26    7.32  294420003\n",
       "2025-07-11    7.17    7.33    7.12    7.33  341830457\n",
       "\n",
       "[1370 rows x 5 columns]"
      ]
     },
     "execution_count": 53,
     "metadata": {},
     "output_type": "execute_result"
    }
   ],
   "source": [
    "df"
   ]
  },
  {
   "cell_type": "code",
   "execution_count": 58,
   "metadata": {},
   "outputs": [
    {
     "data": {
      "text/plain": [
       "Index(['IDEA.NS', 'IDEA.NS', 'IDEA.NS', 'IDEA.NS', 'IDEA.NS'], dtype='object', name='Ticker')"
      ]
     },
     "execution_count": 58,
     "metadata": {},
     "output_type": "execute_result"
    }
   ],
   "source": [
    "df.columns"
   ]
  },
  {
   "cell_type": "code",
   "execution_count": 57,
   "metadata": {},
   "outputs": [
    {
     "ename": "ValueError",
     "evalue": "'Close' column not found in data for IDEA.NS",
     "output_type": "error",
     "traceback": [
      "\u001b[0;31m---------------------------------------------------------------------------\u001b[0m",
      "\u001b[0;31mValueError\u001b[0m                                Traceback (most recent call last)",
      "Cell \u001b[0;32mIn[57], line 12\u001b[0m\n\u001b[1;32m     10\u001b[0m \u001b[38;5;66;03m# Step 3: Validate 'Close' column presence\u001b[39;00m\n\u001b[1;32m     11\u001b[0m \u001b[38;5;28;01mif\u001b[39;00m \u001b[38;5;124m'\u001b[39m\u001b[38;5;124mClose\u001b[39m\u001b[38;5;124m'\u001b[39m \u001b[38;5;129;01mnot\u001b[39;00m \u001b[38;5;129;01min\u001b[39;00m df\u001b[38;5;241m.\u001b[39mcolumns:\n\u001b[0;32m---> 12\u001b[0m     \u001b[38;5;28;01mraise\u001b[39;00m \u001b[38;5;167;01mValueError\u001b[39;00m(\u001b[38;5;124mf\u001b[39m\u001b[38;5;124m\"\u001b[39m\u001b[38;5;124m'\u001b[39m\u001b[38;5;124mClose\u001b[39m\u001b[38;5;124m'\u001b[39m\u001b[38;5;124m column not found in data for \u001b[39m\u001b[38;5;132;01m{\u001b[39;00mticker\u001b[38;5;132;01m}\u001b[39;00m\u001b[38;5;124m\"\u001b[39m)\n\u001b[1;32m     14\u001b[0m \u001b[38;5;66;03m# Step 4: Validate 'Close' column has non-null values\u001b[39;00m\n\u001b[1;32m     15\u001b[0m \u001b[38;5;28;01mif\u001b[39;00m df[\u001b[38;5;124m'\u001b[39m\u001b[38;5;124mClose\u001b[39m\u001b[38;5;124m'\u001b[39m]\u001b[38;5;241m.\u001b[39misnull()\u001b[38;5;241m.\u001b[39mall():\n",
      "\u001b[0;31mValueError\u001b[0m: 'Close' column not found in data for IDEA.NS"
     ]
    }
   ],
   "source": [
    "# Step 2: Handle yfinance's MultiIndex columns (e.g., ('Close', 'ROST'))\n",
    "\n",
    "if isinstance(df.columns, pd.MultiIndex):\n",
    "    try:\n",
    "        # Drop Ticker level (usually 0)\n",
    "        df.columns = df.columns.droplevel(1)\n",
    "    except Exception:\n",
    "        # If above fails, drop second level instead\n",
    "        df.columns = df.columns.droplevel(0)\n",
    "\n",
    "# Step 3: Validate 'Close' column presence\n",
    "if 'Close' not in df.columns:\n",
    "    raise ValueError(f\"'Close' column not found in data for {ticker}\")\n",
    "\n",
    "# Step 4: Validate 'Close' column has non-null values\n",
    "if df['Close'].isnull().all():\n",
    "    raise ValueError(f\"All Close values are null for ticker: {ticker}\")\n"
   ]
  },
  {
   "cell_type": "code",
   "execution_count": 55,
   "metadata": {},
   "outputs": [],
   "source": [
    "import pandas as pd"
   ]
  },
  {
   "cell_type": "code",
   "execution_count": null,
   "metadata": {},
   "outputs": [],
   "source": []
  }
 ],
 "metadata": {
  "kernelspec": {
   "display_name": "base",
   "language": "python",
   "name": "python3"
  },
  "language_info": {
   "codemirror_mode": {
    "name": "ipython",
    "version": 3
   },
   "file_extension": ".py",
   "mimetype": "text/x-python",
   "name": "python",
   "nbconvert_exporter": "python",
   "pygments_lexer": "ipython3",
   "version": "3.11.3"
  }
 },
 "nbformat": 4,
 "nbformat_minor": 2
}
